{
 "cells": [
  {
   "cell_type": "markdown",
   "metadata": {
    "id": "TZKr5-cJ92NL"
   },
   "source": [
    "# Manufacturing Causal-Net \n",
    "\n",
    "The target of the notebook is to learn *causal relations* in a dataset generated from a manufacturing simulator and, secondly, apply some *do-calculus operation* to observe effects of potential intervetions.\n",
    "\n",
    "The simulator has been built using *Simpy*. Furhter information about Simpy in the following link: https://simpy.readthedocs.io/en/latest/index.html\n",
    "\n",
    "The tools used are: \n",
    "- Pandas for data import and manipulation\n",
    "- CausalNex for causal learning\n",
    "\n",
    "In particular, \"*CausalNex is a Python library that uses Bayesian Networks to combine machine learning and domain expertise for causal reasoning*\". \n",
    "\n",
    "The relative documentation is available here: https://causalnex.readthedocs.io/en/latest/index.html"
   ]
  },
  {
   "cell_type": "markdown",
   "metadata": {
    "id": "-AtSHRXxKcwC"
   },
   "source": [
    "## Preparing the workspace\n",
    "All the necessary tools has been downloaded and installed via the venv associated to the project. \n",
    "Refer to the requirements.txt file for further information.\n"
   ]
  },
  {
   "cell_type": "markdown",
   "metadata": {
    "id": "SulWm8sBKwKA"
   },
   "source": [
    "### Importing necessary libraries\n",
    "All the other necessary lirbaries are imported. They are: \n",
    "- os, time, datetime: for file handling operations \n",
    "- pandas: for data import, cleaning and input for CausalNex \n",
    "- causalnex.structure.notears: for network generation from pandas data\n",
    "- networkx: for resulting network plotting"
   ]
  },
  {
   "cell_type": "code",
   "execution_count": 1,
   "metadata": {
    "id": "v27BQ35ognvn"
   },
   "outputs": [],
   "source": [
    "# Importing libraries\n",
    "import shutil\n",
    "import os\n",
    "import time\n",
    "import datetime\n",
    "import networkx\n",
    "import pandas\n",
    "from causalnex.structure.notears import from_pandas"
   ]
  },
  {
   "cell_type": "markdown",
   "metadata": {
    "id": "e7AnRBdQMwxX"
   },
   "source": [
    "## Preparing the data set\n",
    "The dataset generated from the simulation is exported as within a folder. \n",
    "\n",
    "The folder name is \"yyyy.mm.dd-hh.mm-log\", reporting the moment in time where the simulation started. The folder is placed inside of the Google Colab project folder.\n",
    "\n",
    "The file containing the data is called \"merged_logs.csv\". It is imported as a Pandas Dataframe with the method \"read_csv\".\n",
    "\n",
    "After the import, the head of the dataset and other dataset features are displayed.\n",
    "\n",
    "---\n",
    "\n",
    "The dataset used for the published experiment is \"2022.03.14-11.54-log\"."
   ]
  },
  {
   "cell_type": "code",
   "execution_count": 2,
   "metadata": {},
   "outputs": [
    {
     "name": "stdout",
     "output_type": "stream",
     "text": [
      "Dataset folder cleaned.\n",
      "['.gitkeep', '2022.09.16-12.14']\n",
      "working-folder.gitkeep\n",
      "working-folder2022.09.16-12.14\n",
      "to move2022.09.16-12.14\n",
      "Files copied in dataset/2022.09.16-12.14\n"
     ]
    }
   ],
   "source": [
    "# Cleaning from previous runs\n",
    "deleting_folder = os.listdir(os.path.join('dataset/'))\n",
    "for i in range(len(deleting_folder)):\n",
    "    if deleting_folder[i].startswith('.'):\n",
    "        continue\n",
    "    else:\n",
    "        result = shutil.rmtree(os.path.join('dataset/' + deleting_folder[i]))\n",
    "\n",
    "print('Dataset folder cleaned.')\n",
    "\n",
    "# Moving the last run logs\n",
    "working_folder = os.listdir(os.path.join('../manufacturing_model/logs'))\n",
    "print(working_folder)\n",
    "for i in range(len(working_folder)):\n",
    "    print('working-folder' + working_folder[i])\n",
    "    if working_folder[i].startswith('.'):\n",
    "        continue\n",
    "    else:\n",
    "        to_move = working_folder[i]\n",
    "        print('to move' + to_move)\n",
    "        destination = shutil.copytree(os.path.join('../manufacturing_model/logs/' + to_move), os.path.join('dataset/' + to_move))\n",
    "        print('Files copied in ' + destination)"
   ]
  },
  {
   "cell_type": "code",
   "execution_count": 3,
   "metadata": {
    "id": "2T8KD3q2_ORk"
   },
   "outputs": [],
   "source": [
    "# Retrieving the last run log file\n",
    "# Setting the csv path \n",
    "CSV_PATH = os.path.join(destination + '/merged_logs')\n",
    "\n",
    "#CSV_PATH = 'dataset'\n",
    "\n",
    "CSV_FILE_NAME = os.path.join('/merged_logs.csv')\n",
    "CSV_FILE_PATH = CSV_PATH + CSV_FILE_NAME\n",
    "\n",
    "LIGHT_CSV_FILE_NAME = os.path.join('/light-logs.csv')\n",
    "LIGHT_CSV_FILE_PATH = CSV_PATH + LIGHT_CSV_FILE_NAME\n"
   ]
  },
  {
   "cell_type": "code",
   "execution_count": 4,
   "metadata": {
    "colab": {
     "base_uri": "https://localhost:8080/"
    },
    "id": "pS69MJvzGgEI",
    "outputId": "d14df7f2-8507-413b-bc78-c4732f082ca8"
   },
   "outputs": [
    {
     "name": "stdout",
     "output_type": "stream",
     "text": [
      "   step  input Machine B  time process Machine B  output Machine B  \\\n",
      "0   0.0              200                       0                 0   \n",
      "1   0.1              200                       0                 0   \n",
      "2   1.0              200                       0                 0   \n",
      "3   1.1              200                       0                 0   \n",
      "4   1.5              199                       0                 0   \n",
      "5   1.6              199                     237                 0   \n",
      "6   2.0              199                     237                 0   \n",
      "7   2.1              199                     237                 0   \n",
      "8   3.0              199                     237                 0   \n",
      "9   3.1              199                     237                 0   \n",
      "\n",
      "   produced Machine B  failure Machine B  MTTF Machine B  \\\n",
      "0                   0                  0           86400   \n",
      "1                   0                  0           86400   \n",
      "2                   0                  0           86400   \n",
      "3                   0                  0           86400   \n",
      "4                   0                  0           86400   \n",
      "5                   0                  0           86400   \n",
      "6                   0                  0           86400   \n",
      "7                   0                  0           86400   \n",
      "8                   0                  0           86400   \n",
      "9                   0                  0           86400   \n",
      "\n",
      "   repair time Machine B  Machine B flag  input Machine A  ...  \\\n",
      "0                      0               0              200  ...   \n",
      "1                      0               0              200  ...   \n",
      "2                      0               0              200  ...   \n",
      "3                      0               0              200  ...   \n",
      "4                      0               0              199  ...   \n",
      "5                      0               0              199  ...   \n",
      "6                      0               0              199  ...   \n",
      "7                      0               0              199  ...   \n",
      "8                      0               0              199  ...   \n",
      "9                      0               0              199  ...   \n",
      "\n",
      "   repair time Machine A  Machine A flag  input Machine C  \\\n",
      "0                      0               0                0   \n",
      "1                      0               0                0   \n",
      "2                      0               0                0   \n",
      "3                      0               0                0   \n",
      "4                      0               0                0   \n",
      "5                      0               0                0   \n",
      "6                      0               0                0   \n",
      "7                      0               0                0   \n",
      "8                      0               0                0   \n",
      "9                      0               0                0   \n",
      "\n",
      "   time process Machine C  output Machine C  produced Machine C  \\\n",
      "0                       0                 0                   0   \n",
      "1                       0                 0                   0   \n",
      "2                       0                 0                   0   \n",
      "3                       0                 0                   0   \n",
      "4                       0                 0                   0   \n",
      "5                       0                 0                   0   \n",
      "6                       0                 0                   0   \n",
      "7                       0                 0                   0   \n",
      "8                       0                 0                   0   \n",
      "9                       0                 0                   0   \n",
      "\n",
      "   failure Machine C  MTTF Machine C  repair time Machine C  Machine C flag  \n",
      "0                  0          100800                      0               0  \n",
      "1                  0          100800                      0               0  \n",
      "2                  0          100800                      0               0  \n",
      "3                  0          100800                      0               0  \n",
      "4                  0          100800                      0               0  \n",
      "5                  0          100800                      0               0  \n",
      "6                  0          100800                      0               0  \n",
      "7                  0          100800                      0               0  \n",
      "8                  0          100800                      0               0  \n",
      "9                  0          100800                      0               0  \n",
      "\n",
      "[10 rows x 25 columns]\n",
      "\n",
      "\n",
      "step                      float64\n",
      "input Machine B             int64\n",
      "time process Machine B      int64\n",
      "output Machine B            int64\n",
      "produced Machine B          int64\n",
      "failure Machine B           int64\n",
      "MTTF Machine B              int64\n",
      "repair time Machine B       int64\n",
      "Machine B flag              int64\n",
      "input Machine A             int64\n",
      "time process Machine A      int64\n",
      "output Machine A            int64\n",
      "produced Machine A          int64\n",
      "failure Machine A           int64\n",
      "MTTF Machine A              int64\n",
      "repair time Machine A       int64\n",
      "Machine A flag              int64\n",
      "input Machine C             int64\n",
      "time process Machine C      int64\n",
      "output Machine C            int64\n",
      "produced Machine C          int64\n",
      "failure Machine C           int64\n",
      "MTTF Machine C              int64\n",
      "repair time Machine C       int64\n",
      "Machine C flag              int64\n",
      "dtype: object\n",
      "\n",
      "\n",
      "Index(['step', 'input Machine B', 'time process Machine B', 'output Machine B',\n",
      "       'produced Machine B', 'failure Machine B', 'MTTF Machine B',\n",
      "       'repair time Machine B', 'Machine B flag', 'input Machine A',\n",
      "       'time process Machine A', 'output Machine A', 'produced Machine A',\n",
      "       'failure Machine A', 'MTTF Machine A', 'repair time Machine A',\n",
      "       'Machine A flag', 'input Machine C', 'time process Machine C',\n",
      "       'output Machine C', 'produced Machine C', 'failure Machine C',\n",
      "       'MTTF Machine C', 'repair time Machine C', 'Machine C flag'],\n",
      "      dtype='object')\n"
     ]
    }
   ],
   "source": [
    "# Preparing the data set\n",
    "# Unzipping the folder\n",
    "#shutil.unpack_archive(zip_dataset_file, format='zip')\n",
    "\n",
    "# Getting the dataframe from the file\n",
    "data = pandas.read_csv(CSV_FILE_PATH, delimiter=',')\n",
    "\n",
    "# Displaying the head and other dataset characteristics\n",
    "print(data.head(10))\n",
    "print('\\n')\n",
    "print(data.dtypes)\n",
    "print('\\n')\n",
    "print(data.columns)\n"
   ]
  },
  {
   "cell_type": "markdown",
   "metadata": {
    "id": "eaLOprUPYe_9"
   },
   "source": [
    "## Data cleaning and preparation\n",
    "Since the dataset is virtually generated, NaN or missing value are not present.\n",
    "\n",
    "Btw, some data preparation is computed. \n",
    "\n",
    "### Splitting the step column\n",
    "The step column has the form of \"step.moment\": this is not really the meaning of the step used by Simpy. Is instead a \"trick\" to make logs and debugging easier in the previous phase.\n",
    "\n",
    "So, for this phase, is more coherent to split this column into two different columns, namely \"step\" and \"moment\".\n",
    "\n",
    "---\n",
    "\n",
    "The split is performed in 3 steps: \n",
    "1. The \"step\" column is converted in type, from float to string. The result is saved in a new columns called \"step_str\" attached on the right to the initial dataframe. \n",
    "2. Using the str.split method, the \"step_str\" column is split into 2 columns at the \".\" (*point*). The resulting columns are saved into 2 columns called \"step\" and \"moment\". \n",
    "3. The no more necessary temporary column \"step_str\" is dropped.\n",
    "\n",
    "Finally, the columns are reordered keeping the new \"step\" and \"moment\" columns on the left of the dataset and converting them into int type. "
   ]
  },
  {
   "cell_type": "code",
   "execution_count": 5,
   "metadata": {
    "colab": {
     "base_uri": "https://localhost:8080/"
    },
    "id": "-d1Ug0CA8jAA",
    "outputId": "5f294550-e7d4-4243-a27c-6a776192e0ea"
   },
   "outputs": [
    {
     "name": "stdout",
     "output_type": "stream",
     "text": [
      "            step  moment  failure Machine A  Machine A flag  \\\n",
      "0              0       0                  0               0   \n",
      "1              0       1                  0               0   \n",
      "2              1       0                  0               0   \n",
      "3              1       1                  0               0   \n",
      "4              1       5                  0               0   \n",
      "...          ...     ...                ...             ...   \n",
      "1250819  1036795       0                  0               0   \n",
      "1250820  1036796       0                  0               0   \n",
      "1250821  1036797       0                  0               0   \n",
      "1250822  1036798       0                  0               0   \n",
      "1250823  1036799       0                  0               0   \n",
      "\n",
      "         failure Machine B  Machine B flag  failure Machine C  Machine C flag  \n",
      "0                        0               0                  0               0  \n",
      "1                        0               0                  0               0  \n",
      "2                        0               0                  0               0  \n",
      "3                        0               0                  0               0  \n",
      "4                        0               0                  0               0  \n",
      "...                    ...             ...                ...             ...  \n",
      "1250819                  0               0                  0               0  \n",
      "1250820                  0               0                  0               0  \n",
      "1250821                  0               0                  0               0  \n",
      "1250822                  0               0                  0               0  \n",
      "1250823                  0               0                  0               0  \n",
      "\n",
      "[1250824 rows x 8 columns]\n"
     ]
    }
   ],
   "source": [
    "# Splitting the \"step\" column into \"step\" and \"moment\" in 3 steps:\n",
    "# 1. Converting the step col into string type\n",
    "data[\"step_str\"] = data[\"step\"].astype(str)\n",
    "# 2. Using str.split to split the col at the \".\"\n",
    "data[[\"step\", \"moment\"]] = data.step_str.str.split(\".\", expand = True)\n",
    "# 3. Dropping the temp col\n",
    "data.drop(columns=[\"step_str\"], inplace=True)\n",
    "\n",
    "# Reordering the result\n",
    "data = data[[\"step\", \"moment\", \"failure Machine A\", \"Machine A flag\", \n",
    "      \"failure Machine B\",  \"Machine B flag\", \"failure Machine C\", \n",
    "      \"Machine C flag\"]]\n",
    "\n",
    "# Converting everything in int \n",
    "data = data.astype(int)\n",
    "\n",
    "print(data)\n"
   ]
  },
  {
   "cell_type": "markdown",
   "metadata": {
    "id": "tWxQjhAKahEv"
   },
   "source": [
    "## Dropping unnecessary columns for learning \n",
    "In the previous step, during the columns reordering, not all the columns of the initial dataset have been used. For that reason, the unused columns have been dropped. \n",
    "\n",
    "So, there are only 2 columns left to be dropped: \"step\" and \"moment\". \n",
    "\n",
    "They are not necessary since the Bayesian Network used are not time-dependent: they just analyse the datast line-to-line trying to understand relations between features, without taking into account the time. \n",
    "\n",
    "In the following, \"step\" and \"moment\" are dropped."
   ]
  },
  {
   "cell_type": "code",
   "execution_count": 6,
   "metadata": {
    "colab": {
     "base_uri": "https://localhost:8080/"
    },
    "id": "NHQYEOymRd7t",
    "outputId": "9cf12070-c39c-4d93-f047-9cad347efaf0"
   },
   "outputs": [
    {
     "name": "stdout",
     "output_type": "stream",
     "text": [
      "         failure Machine A  Machine A flag  failure Machine B  Machine B flag  \\\n",
      "0                        0               0                  0               0   \n",
      "1                        0               0                  0               0   \n",
      "2                        0               0                  0               0   \n",
      "3                        0               0                  0               0   \n",
      "4                        0               0                  0               0   \n",
      "...                    ...             ...                ...             ...   \n",
      "1250819                  0               0                  0               0   \n",
      "1250820                  0               0                  0               0   \n",
      "1250821                  0               0                  0               0   \n",
      "1250822                  0               0                  0               0   \n",
      "1250823                  0               0                  0               0   \n",
      "\n",
      "         failure Machine C  Machine C flag  \n",
      "0                        0               0  \n",
      "1                        0               0  \n",
      "2                        0               0  \n",
      "3                        0               0  \n",
      "4                        0               0  \n",
      "...                    ...             ...  \n",
      "1250819                  0               0  \n",
      "1250820                  0               0  \n",
      "1250821                  0               0  \n",
      "1250822                  0               0  \n",
      "1250823                  0               0  \n",
      "\n",
      "[1250824 rows x 6 columns]\n"
     ]
    }
   ],
   "source": [
    "# Dropping the unneccessary columns\n",
    "data.drop(columns=[\"step\", \"moment\"], inplace=True)\n",
    "print(data)\n"
   ]
  },
  {
   "cell_type": "markdown",
   "metadata": {
    "id": "ma7RPJBURQ_x"
   },
   "source": [
    "## Saving the cleaned dataset in a dedicated CSV file\n",
    "The processed dataset is now ready in order to be processed by CausalNex. \n",
    "\n",
    "Before launching the learning phase, the dataset is exported as a CSV file in the same file location of the initial dataset CSV. \n",
    "\n",
    "The file is called \"light-logs.csv\", because \"lighter\" with respect to the initial dataset. "
   ]
  },
  {
   "cell_type": "code",
   "execution_count": 7,
   "metadata": {
    "id": "aSbLiXfwpFEP"
   },
   "outputs": [],
   "source": [
    "# Saving the light dataset into csv\n",
    "data.to_csv(LIGHT_CSV_FILE_PATH)\n"
   ]
  },
  {
   "cell_type": "markdown",
   "metadata": {
    "id": "ZTWRoxMISE1o"
   },
   "source": [
    "## Data analysis \n",
    "Before the learning phase, data is analysed in order to understand the impact of the dataset structure on the causal-learning. \n",
    "\n",
    "The structure of the dataset, in fact, will let us understand in advance if some relationships will be caught or not. \n",
    "\n",
    "To do so, the following metrics will be computed: \n",
    "- fault_Machine x = 1 AND flag_Machine_x = 1 AND flag_Machine_C = 1\n",
    "- fault_Machine x = 1 AND flag_Machine_x = 1 AND flag_Machine_C = 0\n",
    "\n",
    "The ratio between those 2 metrics will let the user understand if the breakdown of an upstream machine (Machine A and B in the sim) has affected the downstream machine (Machine C in the sim). \n",
    "\n",
    "If the impact is high, the relation is likely to be caught. \n"
   ]
  },
  {
   "cell_type": "code",
   "execution_count": 8,
   "metadata": {
    "colab": {
     "base_uri": "https://localhost:8080/",
     "height": 424
    },
    "id": "vnBkDMri-J_X",
    "outputId": "21db205c-8d18-4437-af2c-cfd49acf6e82"
   },
   "outputs": [
    {
     "data": {
      "text/html": [
       "<div>\n",
       "<style scoped>\n",
       "    .dataframe tbody tr th:only-of-type {\n",
       "        vertical-align: middle;\n",
       "    }\n",
       "\n",
       "    .dataframe tbody tr th {\n",
       "        vertical-align: top;\n",
       "    }\n",
       "\n",
       "    .dataframe thead th {\n",
       "        text-align: right;\n",
       "    }\n",
       "</style>\n",
       "<table border=\"1\" class=\"dataframe\">\n",
       "  <thead>\n",
       "    <tr style=\"text-align: right;\">\n",
       "      <th></th>\n",
       "      <th>failure Machine A</th>\n",
       "      <th>Machine A flag</th>\n",
       "      <th>failure Machine B</th>\n",
       "      <th>Machine B flag</th>\n",
       "      <th>failure Machine C</th>\n",
       "      <th>Machine C flag</th>\n",
       "    </tr>\n",
       "  </thead>\n",
       "  <tbody>\n",
       "    <tr>\n",
       "      <th>0</th>\n",
       "      <td>0</td>\n",
       "      <td>0</td>\n",
       "      <td>0</td>\n",
       "      <td>0</td>\n",
       "      <td>0</td>\n",
       "      <td>0</td>\n",
       "    </tr>\n",
       "    <tr>\n",
       "      <th>1</th>\n",
       "      <td>0</td>\n",
       "      <td>0</td>\n",
       "      <td>0</td>\n",
       "      <td>0</td>\n",
       "      <td>0</td>\n",
       "      <td>0</td>\n",
       "    </tr>\n",
       "    <tr>\n",
       "      <th>2</th>\n",
       "      <td>0</td>\n",
       "      <td>0</td>\n",
       "      <td>0</td>\n",
       "      <td>0</td>\n",
       "      <td>0</td>\n",
       "      <td>0</td>\n",
       "    </tr>\n",
       "    <tr>\n",
       "      <th>3</th>\n",
       "      <td>0</td>\n",
       "      <td>0</td>\n",
       "      <td>0</td>\n",
       "      <td>0</td>\n",
       "      <td>0</td>\n",
       "      <td>0</td>\n",
       "    </tr>\n",
       "    <tr>\n",
       "      <th>4</th>\n",
       "      <td>0</td>\n",
       "      <td>0</td>\n",
       "      <td>0</td>\n",
       "      <td>0</td>\n",
       "      <td>0</td>\n",
       "      <td>0</td>\n",
       "    </tr>\n",
       "    <tr>\n",
       "      <th>...</th>\n",
       "      <td>...</td>\n",
       "      <td>...</td>\n",
       "      <td>...</td>\n",
       "      <td>...</td>\n",
       "      <td>...</td>\n",
       "      <td>...</td>\n",
       "    </tr>\n",
       "    <tr>\n",
       "      <th>1250819</th>\n",
       "      <td>0</td>\n",
       "      <td>0</td>\n",
       "      <td>0</td>\n",
       "      <td>0</td>\n",
       "      <td>0</td>\n",
       "      <td>0</td>\n",
       "    </tr>\n",
       "    <tr>\n",
       "      <th>1250820</th>\n",
       "      <td>0</td>\n",
       "      <td>0</td>\n",
       "      <td>0</td>\n",
       "      <td>0</td>\n",
       "      <td>0</td>\n",
       "      <td>0</td>\n",
       "    </tr>\n",
       "    <tr>\n",
       "      <th>1250821</th>\n",
       "      <td>0</td>\n",
       "      <td>0</td>\n",
       "      <td>0</td>\n",
       "      <td>0</td>\n",
       "      <td>0</td>\n",
       "      <td>0</td>\n",
       "    </tr>\n",
       "    <tr>\n",
       "      <th>1250822</th>\n",
       "      <td>0</td>\n",
       "      <td>0</td>\n",
       "      <td>0</td>\n",
       "      <td>0</td>\n",
       "      <td>0</td>\n",
       "      <td>0</td>\n",
       "    </tr>\n",
       "    <tr>\n",
       "      <th>1250823</th>\n",
       "      <td>0</td>\n",
       "      <td>0</td>\n",
       "      <td>0</td>\n",
       "      <td>0</td>\n",
       "      <td>0</td>\n",
       "      <td>0</td>\n",
       "    </tr>\n",
       "  </tbody>\n",
       "</table>\n",
       "<p>1250824 rows × 6 columns</p>\n",
       "</div>"
      ],
      "text/plain": [
       "         failure Machine A  Machine A flag  failure Machine B  Machine B flag  \\\n",
       "0                        0               0                  0               0   \n",
       "1                        0               0                  0               0   \n",
       "2                        0               0                  0               0   \n",
       "3                        0               0                  0               0   \n",
       "4                        0               0                  0               0   \n",
       "...                    ...             ...                ...             ...   \n",
       "1250819                  0               0                  0               0   \n",
       "1250820                  0               0                  0               0   \n",
       "1250821                  0               0                  0               0   \n",
       "1250822                  0               0                  0               0   \n",
       "1250823                  0               0                  0               0   \n",
       "\n",
       "         failure Machine C  Machine C flag  \n",
       "0                        0               0  \n",
       "1                        0               0  \n",
       "2                        0               0  \n",
       "3                        0               0  \n",
       "4                        0               0  \n",
       "...                    ...             ...  \n",
       "1250819                  0               0  \n",
       "1250820                  0               0  \n",
       "1250821                  0               0  \n",
       "1250822                  0               0  \n",
       "1250823                  0               0  \n",
       "\n",
       "[1250824 rows x 6 columns]"
      ]
     },
     "execution_count": 8,
     "metadata": {},
     "output_type": "execute_result"
    }
   ],
   "source": [
    "# Loading the light dataset into csv\n",
    "data = pandas.read_csv(LIGHT_CSV_FILE_PATH, delimiter=',', index_col=0)\n",
    "data\n"
   ]
  },
  {
   "cell_type": "code",
   "execution_count": 9,
   "metadata": {
    "colab": {
     "base_uri": "https://localhost:8080/"
    },
    "id": "WUBC7tVYUZjo",
    "outputId": "0c76ec8e-c674-4634-912f-02d3f39a5e79"
   },
   "outputs": [
    {
     "name": "stdout",
     "output_type": "stream",
     "text": [
      "Ratio A High:  0.7561257500514548\n",
      "Ratio A Low:  0.24387424994854529\n"
     ]
    }
   ],
   "source": [
    "# Machine A Ratio\n",
    "fault_A_flag = data[(data['failure Machine A'] == 1) & \n",
    "                    (data['Machine A flag'] == 1)].count()\n",
    "\n",
    "fault_A_flag_C_High = data[(data['failure Machine A'] == 1) & \n",
    "                           (data['Machine A flag'] == 1) & \n",
    "                           (data['Machine C flag'] == 1)].count()\n",
    "\n",
    "fault_A_flag_C_Low = data[(data['failure Machine A'] == 1) & \n",
    "                          (data['Machine A flag'] == 1) & \n",
    "                          (data['Machine C flag'] == 0)].count()\n",
    "\n",
    "ratio_A_high = fault_A_flag_C_High[0]/fault_A_flag[0]\n",
    "ratio_A_low = fault_A_flag_C_Low[0]/fault_A_flag[0]\n",
    "\n",
    "print('Ratio A High: ', ratio_A_high)\n",
    "print('Ratio A Low: ', ratio_A_low)\n"
   ]
  },
  {
   "cell_type": "code",
   "execution_count": 10,
   "metadata": {
    "colab": {
     "base_uri": "https://localhost:8080/"
    },
    "id": "2WgIaxPZY6lV",
    "outputId": "e2a5ddba-3f66-4724-b1e6-6b3d64da320f"
   },
   "outputs": [
    {
     "name": "stdout",
     "output_type": "stream",
     "text": [
      "Ratio B High:  0.7205327031776944\n",
      "Ratio B Low:  0.2794672968223056\n"
     ]
    }
   ],
   "source": [
    "# Machine B Ratio\n",
    "fault_B_flag = data[(data['failure Machine B'] == 1) & \n",
    "                    (data['Machine B flag'] == 1)].count()\n",
    "\n",
    "fault_B_flag_C_High = data[(data['failure Machine B'] == 1) & \n",
    "                           (data['Machine B flag'] == 1) & \n",
    "                           (data['Machine C flag'] == 1)].count()\n",
    "\n",
    "fault_B_flag_C_Low = data[(data['failure Machine B'] == 1) & \n",
    "                          (data['Machine B flag'] == 1) & \n",
    "                          (data['Machine C flag'] == 0)].count()\n",
    "\n",
    "ratio_B_high = fault_B_flag_C_High[0]/fault_B_flag[0]\n",
    "ratio_B_low = fault_B_flag_C_Low[0]/fault_B_flag[0]\n",
    "\n",
    "print('Ratio B High: ', ratio_B_high)\n",
    "print('Ratio B Low: ', ratio_B_low)\n"
   ]
  },
  {
   "cell_type": "markdown",
   "metadata": {
    "id": "tSJMy_pAR-DE"
   },
   "source": [
    "## CausalNex application: applying the causal-network\n"
   ]
  },
  {
   "cell_type": "code",
   "execution_count": 11,
   "metadata": {
    "colab": {
     "base_uri": "https://localhost:8080/"
    },
    "id": "4sLr0Z9pmkvf",
    "outputId": "4e6ec2d2-79ff-4ed9-edc7-dffa9797f727"
   },
   "outputs": [
    {
     "name": "stdout",
     "output_type": "stream",
     "text": [
      "Tabu child list:  ['failure_Machine_A', 'failure_Machine_B', 'failure_Machine_C']\n",
      "Total training time: 1.0 min, 39.0 secs\n",
      "StructureModel with 6 nodes and 15 edges\n"
     ]
    }
   ],
   "source": [
    "# Eliminating spaces from column names - useful for later\n",
    "column_dict = {}\n",
    "for el in data.columns:\n",
    "  key = el\n",
    "  el = el.replace(' ', '_')\n",
    "  column_dict [key] = el\n",
    "\n",
    "data = data.rename(columns=column_dict)\n",
    "\n",
    "# Getting tabu child nodes\n",
    "tabu_child_list = [x for x in data.columns if 'failure' in x]\n",
    "\n",
    "print('Tabu child list: ', tabu_child_list)\n",
    "\n",
    "# Training the model\n",
    "# Declaring and mining the structure of the causal-net\n",
    "start_time = time.time()\n",
    "structure_model = from_pandas(data, tabu_child_nodes=tabu_child_list)\n",
    "finish_time = time.time()\n",
    "sim_time = finish_time - start_time\n",
    "\n",
    "# Printing the structure model with Python\n",
    "print(\"Total training time: {} min, {} secs\".format(round(sim_time/60, 0), \n",
    "                                                    round(sim_time%60, 0)))\n",
    "print(structure_model)\n"
   ]
  },
  {
   "cell_type": "code",
   "execution_count": 12,
   "metadata": {
    "colab": {
     "base_uri": "https://localhost:8080/"
    },
    "id": "SxjraST7GRj9",
    "outputId": "bf3d0c54-518e-424b-d894-736b101c5021"
   },
   "outputs": [
    {
     "data": {
      "text/plain": [
       "(1250824, 6)"
      ]
     },
     "execution_count": 12,
     "metadata": {},
     "output_type": "execute_result"
    }
   ],
   "source": [
    "data.shape"
   ]
  },
  {
   "cell_type": "code",
   "execution_count": 13,
   "metadata": {
    "colab": {
     "base_uri": "https://localhost:8080/",
     "height": 319
    },
    "id": "N2qwPglboYKw",
    "outputId": "48dd420d-33cd-47f1-da3e-49936885a03c"
   },
   "outputs": [
    {
     "data": {
      "image/png": "[encoded data removed]",
      "text/plain": [
       "<Figure size 640x480 with 1 Axes>"
      ]
     },
     "metadata": {},
     "output_type": "display_data"
    }
   ],
   "source": [
    "# Printing the structure model with networkx\n",
    "networkx.draw(structure_model, with_labels=True)\n"
   ]
  },
  {
   "cell_type": "code",
   "execution_count": 14,
   "metadata": {
    "colab": {
     "base_uri": "https://localhost:8080/",
     "height": 336
    },
    "id": "yWlktXteDH7S",
    "outputId": "c2c25cba-6103-4955-9262-e2f7df9b4f4d"
   },
   "outputs": [
    {
     "name": "stdout",
     "output_type": "stream",
     "text": [
      "StructureModel with 6 nodes and 6 edges\n"
     ]
    },
    {
     "data": {
      "image/png": "[encoded data removed]",
      "text/plain": [
       "<Figure size 640x480 with 1 Axes>"
      ]
     },
     "metadata": {},
     "output_type": "display_data"
    }
   ],
   "source": [
    "structure_model.remove_edges_below_threshold(0.1)\n",
    "print(structure_model)\n",
    "# Printing the structure model again\n",
    "networkx.draw(structure_model, with_labels=True)\n"
   ]
  },
  {
   "cell_type": "code",
   "execution_count": 15,
   "metadata": {
    "colab": {
     "base_uri": "https://localhost:8080/",
     "height": 336
    },
    "id": "s_iO3mnRIXid",
    "outputId": "d694140d-408a-4f5e-a889-978739957fab"
   },
   "outputs": [
    {
     "name": "stdout",
     "output_type": "stream",
     "text": [
      "StructureModel with 6 nodes and 5 edges\n"
     ]
    },
    {
     "data": {
      "image/png": "[encoded data removed]",
      "text/plain": [
       "<Figure size 640x480 with 1 Axes>"
      ]
     },
     "metadata": {},
     "output_type": "display_data"
    }
   ],
   "source": [
    "structure_model.remove_edges_below_threshold(0.2)\n",
    "print(structure_model)\n",
    "# Printing the structure model again\n",
    "networkx.draw(structure_model, with_labels=True)\n"
   ]
  },
  {
   "cell_type": "code",
   "execution_count": 16,
   "metadata": {
    "colab": {
     "base_uri": "https://localhost:8080/",
     "height": 336
    },
    "id": "5BNerdjwIZU4",
    "outputId": "6d18f1ee-6061-40d8-dbb8-263114fe3e35"
   },
   "outputs": [
    {
     "name": "stdout",
     "output_type": "stream",
     "text": [
      "StructureModel with 6 nodes and 5 edges\n"
     ]
    },
    {
     "data": {
      "image/png": "[encoded data removed]",
      "text/plain": [
       "<Figure size 640x480 with 1 Axes>"
      ]
     },
     "metadata": {},
     "output_type": "display_data"
    }
   ],
   "source": [
    "structure_model.remove_edges_below_threshold(0.3)\n",
    "print(structure_model)\n",
    "# Printing the structure model again\n",
    "networkx.draw(structure_model, with_labels=True)\n"
   ]
  },
  {
   "cell_type": "code",
   "execution_count": 17,
   "metadata": {
    "id": "JIQ6BESQosOI"
   },
   "outputs": [],
   "source": [
    "# Exporting the model at the best threshold (as said in the NOTEARS arxiv paper)\n",
    "networkx.drawing.nx_pydot.write_dot(structure_model, CSV_PATH + '/graph.dot')"
   ]
  },
  {
   "cell_type": "code",
   "execution_count": 18,
   "metadata": {
    "id": "_Fh0XpKKBMR1"
   },
   "outputs": [],
   "source": [
    "# Getting weights of the generated model in Python dict structure\n",
    "edges_weights_dict = networkx.to_dict_of_dicts(structure_model)\n",
    "\n",
    "# Saving the weights of the generated model\n",
    "with open(os.path.join(CSV_PATH + '/edges-weights.txt'), 'a') as f:\n",
    "  for k1 in edges_weights_dict:\n",
    "    for k2 in edges_weights_dict[k1]:\n",
    "      text = k1 + ' -> ' + k2 + ': ' \\\n",
    "            + str(edges_weights_dict[k1][k2].get('weight'))\n",
    "    f.write(text)\n",
    "  f.close()\n"
   ]
  },
  {
   "cell_type": "code",
   "execution_count": 19,
   "metadata": {
    "colab": {
     "base_uri": "https://localhost:8080/"
    },
    "id": "31pP03ki6EFJ",
    "outputId": "0c2eb95e-20d8-412e-b088-aaa2718609d9"
   },
   "outputs": [
    {
     "name": "stderr",
     "output_type": "stream",
     "text": [
      "/home/mex/Scrivania/Workspace/Projects/Phd-Projects/Phd-Manufacturing-Distributed/venv/lib/python3.8/site-packages/pgmpy/models/BayesianModel.py:8: FutureWarning: BayesianModel has been renamed to BayesianNetwork. Please use BayesianNetwork class, BayesianModel will be removed in future.\n",
      "  warnings.warn(\n"
     ]
    }
   ],
   "source": [
    "# Bayesian network instantiation\n",
    "from causalnex.network import BayesianNetwork\n",
    "\n",
    "bayesian_net = BayesianNetwork(structure_model)\n"
   ]
  },
  {
   "cell_type": "code",
   "execution_count": 20,
   "metadata": {
    "colab": {
     "base_uri": "https://localhost:8080/"
    },
    "id": "tagZPOgMygNe",
    "outputId": "bf933f8c-d3d0-4e91-92e1-ad642ad8e77e"
   },
   "outputs": [
    {
     "data": {
      "text/plain": [
       "{'failure_Machine_A':                            \n",
       " failure_Machine_A          \n",
       " 0                  0.843992\n",
       " 1                  0.156008,\n",
       " 'Machine_A_flag': failure_Machine_A         0        1\n",
       " Machine_A_flag                      \n",
       " 0                  0.997391  0.02823\n",
       " 1                  0.002609  0.97177,\n",
       " 'Machine_C_flag': Machine_A_flag           0                                  1            \\\n",
       " Machine_B_flag           0                   1              0             \n",
       " failure_Machine_C        0         1         0    1         0         1   \n",
       " Machine_C_flag                                                            \n",
       " 0                  0.99628  0.170774  0.406209  0.5  0.337589  0.201853   \n",
       " 1                  0.00372  0.829226  0.593791  0.5  0.662411  0.798147   \n",
       " \n",
       " Machine_A_flag                    \n",
       " Machine_B_flag            1       \n",
       " failure_Machine_C         0    1  \n",
       " Machine_C_flag                    \n",
       " 0                  0.000021  0.5  \n",
       " 1                  0.999979  0.5  ,\n",
       " 'failure_Machine_B':                            \n",
       " failure_Machine_B          \n",
       " 0                  0.860742\n",
       " 1                  0.139258,\n",
       " 'Machine_B_flag': failure_Machine_B         0         1\n",
       " Machine_B_flag                       \n",
       " 0                  0.997899  0.033125\n",
       " 1                  0.002101  0.966875,\n",
       " 'failure_Machine_C':                            \n",
       " failure_Machine_C          \n",
       " 0                  0.985112\n",
       " 1                  0.014888}"
      ]
     },
     "execution_count": 20,
     "metadata": {},
     "output_type": "execute_result"
    }
   ],
   "source": [
    "from sklearn.model_selection import train_test_split\n",
    "\n",
    "# Split 90% train and 10% test\n",
    "training_data = data.copy()\n",
    "train, test = train_test_split(training_data, train_size=0.9, test_size=0.1, \n",
    "                               random_state=7)\n",
    "\n",
    "# Fitting node states into the Bayesian Network: here they are inferred from the \n",
    "# input data, but sometimes is necessary to provide a dictionary for them to be \n",
    "# assigned\n",
    "bayesian_net = bayesian_net.fit_node_states(training_data)\n",
    "\n",
    "# Fitting the data into the prepared net\n",
    "bayesian_net = bayesian_net.fit_cpds(train, method=\"BayesianEstimator\", \n",
    "                                     bayes_prior=\"K2\")\n",
    "\n",
    "bayesian_net.cpds\n"
   ]
  },
  {
   "cell_type": "code",
   "execution_count": 21,
   "metadata": {
    "colab": {
     "base_uri": "https://localhost:8080/"
    },
    "id": "8l_7Vgtg8iJi",
    "outputId": "be691c2d-bf5e-4fdf-c5cc-a1fd08bbdf4a"
   },
   "outputs": [
    {
     "name": "stdout",
     "output_type": "stream",
     "text": [
      "Machine A failure Node AUC:  0.8451108463979917\n",
      "Machine A flag Node AUC:  0.9972088667675321\n",
      "Machine B failure Node AUC:  0.8609563250001999\n",
      "Machine B flag Node AUC:  0.9973645779304554\n",
      "Machine C failure node Node AUC:  0.9852338047536435\n",
      "Machine C flag Node AUC:  0.9811262974303523\n"
     ]
    }
   ],
   "source": [
    "from causalnex.evaluation import classification_report, roc_auc\n",
    "\n",
    "# ROC, AUC curve computation for failure Machine A\n",
    "machine_A_failure_roc, machine_A_failure_auc = roc_auc(bayesian_net, test, \"failure_Machine_A\")\n",
    "print('Machine A failure Node AUC: ', machine_A_failure_auc)\n",
    "\n",
    "# ROC, AUC curve computation for Machine A flag\n",
    "machine_A_flag_roc, machine_A_flag_auc = roc_auc(bayesian_net, test, \"Machine_A_flag\")\n",
    "print('Machine A flag Node AUC: ', machine_A_flag_auc)\n",
    "\n",
    "# ROC, AUC curve computation for failure Machine B\n",
    "machine_B_failure_roc, machine_B_failure_auc = roc_auc(bayesian_net, test, \"failure_Machine_B\")\n",
    "print('Machine B failure Node AUC: ', machine_B_failure_auc)\n",
    "\n",
    "# ROC, AUC curve computation for Machine B flag\n",
    "machine_B_flag_roc, machine_B_flag_auc = roc_auc(bayesian_net, test, \"Machine_B_flag\")\n",
    "print('Machine B flag Node AUC: ', machine_B_flag_auc)\n",
    "\n",
    "# ROC, AUC curve computation for failure Machine C\n",
    "machine_C_failure_roc, machine_C_failure_auc = roc_auc(bayesian_net, test, \"failure_Machine_C\")\n",
    "print('Machine C failure node Node AUC: ', machine_C_failure_auc)\n",
    "\n",
    "# ROC, AUC curve computation for Machine C flag\n",
    "machine_C_flag_roc, machine_C_flag_auc = roc_auc(bayesian_net, test, \"Machine_C_flag\")\n",
    "print('Machine C flag Node AUC: ', machine_C_flag_auc)\n"
   ]
  },
  {
   "cell_type": "code",
   "execution_count": 22,
   "metadata": {
    "colab": {
     "base_uri": "https://localhost:8080/"
    },
    "id": "mxTJZxpkZCoc",
    "outputId": "8eacb796-023c-4b8c-febb-1a96cc4a367f"
   },
   "outputs": [
    {
     "name": "stderr",
     "output_type": "stream",
     "text": [
      "/home/mex/Scrivania/Workspace/Projects/Phd-Projects/Phd-Manufacturing-Distributed/venv/lib/python3.8/site-packages/sklearn/metrics/_classification.py:1248: UndefinedMetricWarning: Precision and F-score are ill-defined and being set to 0.0 in labels with no predicted samples. Use `zero_division` parameter to control this behavior.\n",
      "  _warn_prf(average, modifier, msg_start, len(result))\n",
      "/home/mex/Scrivania/Workspace/Projects/Phd-Projects/Phd-Manufacturing-Distributed/venv/lib/python3.8/site-packages/sklearn/metrics/_classification.py:1248: UndefinedMetricWarning: Precision and F-score are ill-defined and being set to 0.0 in labels with no predicted samples. Use `zero_division` parameter to control this behavior.\n",
      "  _warn_prf(average, modifier, msg_start, len(result))\n",
      "/home/mex/Scrivania/Workspace/Projects/Phd-Projects/Phd-Manufacturing-Distributed/venv/lib/python3.8/site-packages/sklearn/metrics/_classification.py:1248: UndefinedMetricWarning: Precision and F-score are ill-defined and being set to 0.0 in labels with no predicted samples. Use `zero_division` parameter to control this behavior.\n",
      "  _warn_prf(average, modifier, msg_start, len(result))\n"
     ]
    },
    {
     "data": {
      "text/plain": [
       "{'failure_Machine_A_0': {'precision': 0.8451108463979917,\n",
       "  'recall': 1.0,\n",
       "  'f1-score': 0.9160542826441125,\n",
       "  'support': 105709},\n",
       " 'failure_Machine_A_1': {'precision': 0.0,\n",
       "  'recall': 0.0,\n",
       "  'f1-score': 0.0,\n",
       "  'support': 19374},\n",
       " 'accuracy': 0.8451108463979917,\n",
       " 'macro avg': {'precision': 0.42255542319899586,\n",
       "  'recall': 0.5,\n",
       "  'f1-score': 0.45802714132205624,\n",
       "  'support': 125083},\n",
       " 'weighted avg': {'precision': 0.71421234269953,\n",
       "  'recall': 0.8451108463979917,\n",
       "  'f1-score': 0.7741674101518711,\n",
       "  'support': 125083}}"
      ]
     },
     "execution_count": 22,
     "metadata": {},
     "output_type": "execute_result"
    }
   ],
   "source": [
    "# Model quality evaluation for failure Machine A\n",
    "classification_report(bayesian_net, test, \"failure_Machine_A\")\n"
   ]
  },
  {
   "cell_type": "code",
   "execution_count": 23,
   "metadata": {
    "colab": {
     "base_uri": "https://localhost:8080/"
    },
    "id": "RO9IphkRahyg",
    "outputId": "714d17a3-2721-4191-8453-b3bd15d74e83"
   },
   "outputs": [
    {
     "data": {
      "text/plain": [
       "{'Machine_A_flag_0': {'precision': 0.9978431354000132,\n",
       "  'recall': 0.994775310039138,\n",
       "  'f1-score': 0.9963068611153091,\n",
       "  'support': 106035},\n",
       " 'Machine_A_flag_1': {'precision': 0.9714049757406834,\n",
       "  'recall': 0.9880302393952121,\n",
       "  'f1-score': 0.9796470771953568,\n",
       "  'support': 19048},\n",
       " 'accuracy': 0.9937481512275849,\n",
       " 'macro avg': {'precision': 0.9846240555703483,\n",
       "  'recall': 0.991402774717175,\n",
       "  'f1-score': 0.987976969155333,\n",
       "  'support': 125083},\n",
       " 'weighted avg': {'precision': 0.993817056195078,\n",
       "  'recall': 0.9937481512275849,\n",
       "  'f1-score': 0.9937698611704144,\n",
       "  'support': 125083}}"
      ]
     },
     "execution_count": 23,
     "metadata": {},
     "output_type": "execute_result"
    }
   ],
   "source": [
    "# Model quality evaluation for Machine A flag\n",
    "classification_report(bayesian_net, test, \"Machine_A_flag\")\n"
   ]
  },
  {
   "cell_type": "code",
   "execution_count": 24,
   "metadata": {
    "colab": {
     "base_uri": "https://localhost:8080/"
    },
    "id": "KpURxpovBBFG",
    "outputId": "33df5095-d1d5-4057-b7bb-1f0138a112da"
   },
   "outputs": [
    {
     "name": "stderr",
     "output_type": "stream",
     "text": [
      "/home/mex/Scrivania/Workspace/Projects/Phd-Projects/Phd-Manufacturing-Distributed/venv/lib/python3.8/site-packages/sklearn/metrics/_classification.py:1248: UndefinedMetricWarning: Precision and F-score are ill-defined and being set to 0.0 in labels with no predicted samples. Use `zero_division` parameter to control this behavior.\n",
      "  _warn_prf(average, modifier, msg_start, len(result))\n",
      "/home/mex/Scrivania/Workspace/Projects/Phd-Projects/Phd-Manufacturing-Distributed/venv/lib/python3.8/site-packages/sklearn/metrics/_classification.py:1248: UndefinedMetricWarning: Precision and F-score are ill-defined and being set to 0.0 in labels with no predicted samples. Use `zero_division` parameter to control this behavior.\n",
      "  _warn_prf(average, modifier, msg_start, len(result))\n",
      "/home/mex/Scrivania/Workspace/Projects/Phd-Projects/Phd-Manufacturing-Distributed/venv/lib/python3.8/site-packages/sklearn/metrics/_classification.py:1248: UndefinedMetricWarning: Precision and F-score are ill-defined and being set to 0.0 in labels with no predicted samples. Use `zero_division` parameter to control this behavior.\n",
      "  _warn_prf(average, modifier, msg_start, len(result))\n"
     ]
    },
    {
     "data": {
      "text/plain": [
       "{'failure_Machine_B_0': {'precision': 0.8609563250001999,\n",
       "  'recall': 1.0,\n",
       "  'f1-score': 0.9252837516217447,\n",
       "  'support': 107691},\n",
       " 'failure_Machine_B_1': {'precision': 0.0,\n",
       "  'recall': 0.0,\n",
       "  'f1-score': 0.0,\n",
       "  'support': 17392},\n",
       " 'accuracy': 0.8609563250001999,\n",
       " 'macro avg': {'precision': 0.43047816250009996,\n",
       "  'recall': 0.5,\n",
       "  'f1-score': 0.46264187581087235,\n",
       "  'support': 125083},\n",
       " 'weighted avg': {'precision': 0.7412457935578499,\n",
       "  'recall': 0.8609563250001999,\n",
       "  'f1-score': 0.796628898378655,\n",
       "  'support': 125083}}"
      ]
     },
     "execution_count": 24,
     "metadata": {},
     "output_type": "execute_result"
    }
   ],
   "source": [
    "# Model quality evaluation for failure Machine B\n",
    "classification_report(bayesian_net, test, \"failure_Machine_B\")\n"
   ]
  },
  {
   "cell_type": "code",
   "execution_count": 25,
   "metadata": {
    "colab": {
     "base_uri": "https://localhost:8080/"
    },
    "id": "drtuoovoBDYc",
    "outputId": "c9aea4c2-98b0-4f3b-cdbc-bcf0acca9470"
   },
   "outputs": [
    {
     "data": {
      "text/plain": [
       "{'Machine_B_flag_0': {'precision': 0.9979292605695926,\n",
       "  'recall': 0.9949635225715662,\n",
       "  'f1-score': 0.9964441848282128,\n",
       "  'support': 108012},\n",
       " 'Machine_B_flag_1': {'precision': 0.968721251149954,\n",
       "  'recall': 0.9869369105500556,\n",
       "  'f1-score': 0.977744247453791,\n",
       "  'support': 17071},\n",
       " 'accuracy': 0.9938680716004573,\n",
       " 'macro avg': {'precision': 0.9833252558597734,\n",
       "  'recall': 0.9909502165608108,\n",
       "  'f1-score': 0.9870942161410019,\n",
       "  'support': 125083},\n",
       " 'weighted avg': {'precision': 0.9939430279975991,\n",
       "  'recall': 0.9938680716004573,\n",
       "  'f1-score': 0.9938920663875074,\n",
       "  'support': 125083}}"
      ]
     },
     "execution_count": 25,
     "metadata": {},
     "output_type": "execute_result"
    }
   ],
   "source": [
    "# Model quality evaluation for Machine B flag\n",
    "classification_report(bayesian_net, test, \"Machine_B_flag\")\n"
   ]
  },
  {
   "cell_type": "code",
   "execution_count": 26,
   "metadata": {
    "colab": {
     "base_uri": "https://localhost:8080/"
    },
    "id": "lvVozLO1BGaI",
    "outputId": "245158bc-066e-4ec4-857d-baa12e56fef1"
   },
   "outputs": [
    {
     "name": "stderr",
     "output_type": "stream",
     "text": [
      "/home/mex/Scrivania/Workspace/Projects/Phd-Projects/Phd-Manufacturing-Distributed/venv/lib/python3.8/site-packages/sklearn/metrics/_classification.py:1248: UndefinedMetricWarning: Precision and F-score are ill-defined and being set to 0.0 in labels with no predicted samples. Use `zero_division` parameter to control this behavior.\n",
      "  _warn_prf(average, modifier, msg_start, len(result))\n",
      "/home/mex/Scrivania/Workspace/Projects/Phd-Projects/Phd-Manufacturing-Distributed/venv/lib/python3.8/site-packages/sklearn/metrics/_classification.py:1248: UndefinedMetricWarning: Precision and F-score are ill-defined and being set to 0.0 in labels with no predicted samples. Use `zero_division` parameter to control this behavior.\n",
      "  _warn_prf(average, modifier, msg_start, len(result))\n",
      "/home/mex/Scrivania/Workspace/Projects/Phd-Projects/Phd-Manufacturing-Distributed/venv/lib/python3.8/site-packages/sklearn/metrics/_classification.py:1248: UndefinedMetricWarning: Precision and F-score are ill-defined and being set to 0.0 in labels with no predicted samples. Use `zero_division` parameter to control this behavior.\n",
      "  _warn_prf(average, modifier, msg_start, len(result))\n"
     ]
    },
    {
     "data": {
      "text/plain": [
       "{'failure_Machine_C_0': {'precision': 0.9852338047536435,\n",
       "  'recall': 1.0,\n",
       "  'f1-score': 0.992561986799238,\n",
       "  'support': 123236},\n",
       " 'failure_Machine_C_1': {'precision': 0.0,\n",
       "  'recall': 0.0,\n",
       "  'f1-score': 0.0,\n",
       "  'support': 1847},\n",
       " 'accuracy': 0.9852338047536435,\n",
       " 'macro avg': {'precision': 0.49261690237682176,\n",
       "  'recall': 0.5,\n",
       "  'f1-score': 0.496280993399619,\n",
       "  'support': 125083},\n",
       " 'weighted avg': {'precision': 0.9706856500293406,\n",
       "  'recall': 0.9852338047536435,\n",
       "  'f1-score': 0.977905622708049,\n",
       "  'support': 125083}}"
      ]
     },
     "execution_count": 26,
     "metadata": {},
     "output_type": "execute_result"
    }
   ],
   "source": [
    "# Model quality evaluation for failure Machine C\n",
    "classification_report(bayesian_net, test, \"failure_Machine_C\")\n"
   ]
  },
  {
   "cell_type": "code",
   "execution_count": 27,
   "metadata": {
    "colab": {
     "base_uri": "https://localhost:8080/"
    },
    "id": "inyrsidEBnEA",
    "outputId": "b28e08fb-c1d2-4a20-aded-faedf5c7760c"
   },
   "outputs": [
    {
     "data": {
      "text/plain": [
       "{'Machine_C_flag_0': {'precision': 0.996192674403555,\n",
       "  'recall': 0.9057504854178516,\n",
       "  'f1-score': 0.9488212029380041,\n",
       "  'support': 101974},\n",
       " 'Machine_C_flag_1': {'precision': 0.703061760435011,\n",
       "  'recall': 0.9847245661863343,\n",
       "  'f1-score': 0.8203907996250631,\n",
       "  'support': 23109},\n",
       " 'accuracy': 0.9203408936466186,\n",
       " 'macro avg': {'precision': 0.8496272174192829,\n",
       "  'recall': 0.945237525802093,\n",
       "  'f1-score': 0.8846060012815335,\n",
       "  'support': 125083},\n",
       " 'weighted avg': {'precision': 0.942036935487003,\n",
       "  'recall': 0.9203408936466186,\n",
       "  'f1-score': 0.925093772430591,\n",
       "  'support': 125083}}"
      ]
     },
     "execution_count": 27,
     "metadata": {},
     "output_type": "execute_result"
    }
   ],
   "source": [
    "# Model quality evaluation for Machine C flag\n",
    "classification_report(bayesian_net, test, \"Machine_C_flag\")\n"
   ]
  },
  {
   "cell_type": "code",
   "execution_count": 28,
   "metadata": {
    "id": "laBaw7vqFMu6"
   },
   "outputs": [],
   "source": [
    "# Fitting with the whole dataset\n",
    "bayesian_net = bayesian_net.fit_cpds(data, method=\"BayesianEstimator\", bayes_prior=\"K2\")\n"
   ]
  },
  {
   "cell_type": "code",
   "execution_count": 29,
   "metadata": {
    "colab": {
     "base_uri": "https://localhost:8080/"
    },
    "id": "XOyh9AwNG_kN",
    "outputId": "b3f8e06d-abca-463d-eee7-2c7bfccdb60b"
   },
   "outputs": [
    {
     "data": {
      "text/plain": [
       "{0: 0.8108503544079303, 1: 0.1891496455920699}"
      ]
     },
     "execution_count": 29,
     "metadata": {},
     "output_type": "execute_result"
    }
   ],
   "source": [
    "from causalnex.inference import InferenceEngine\n",
    "\n",
    "ie = InferenceEngine(bayesian_net)\n",
    "marginals = ie.query()\n",
    "marginals[\"Machine_C_flag\"]\n"
   ]
  },
  {
   "cell_type": "code",
   "execution_count": 30,
   "metadata": {
    "colab": {
     "base_uri": "https://localhost:8080/"
    },
    "id": "KmykFQlWDTGI",
    "outputId": "42c223b9-8984-421d-f3ba-6e1533c2eabf"
   },
   "outputs": [
    {
     "name": "stdout",
     "output_type": "stream",
     "text": [
      "Marginal Failure Machine A | Machine A flag {0: 0.014084711666955652, 1: 0.9859152883330443}\n",
      "Marginal Failure Machine B | Machine B flag {0: 0.013235046804046052, 1: 0.9867649531959538}\n",
      "Marginal Failure Machine C | Machine C flag {0: 0.9386328129894899, 1: 0.06136718701051015}\n"
     ]
    }
   ],
   "source": [
    "# Calculating conditioned probability Machine A\n",
    "p_break_given_flag_A = ie.query({\"Machine_A_flag\": 1})\n",
    "print(\"Marginal Failure Machine A | Machine A flag\", p_break_given_flag_A[\"failure_Machine_A\"])\n",
    "\n",
    "# Calculating conditioned probability Machine B\n",
    "p_break_given_flag_B = ie.query({\"Machine_B_flag\": 1})\n",
    "print(\"Marginal Failure Machine B | Machine B flag\", p_break_given_flag_B[\"failure_Machine_B\"])\n",
    "\n",
    "# Calculating conditioned probability Machine C\n",
    "p_break_given_flag_C = ie.query({\"Machine_C_flag\": 1})\n",
    "print(\"Marginal Failure Machine C | Machine C flag\", p_break_given_flag_C[\"failure_Machine_C\"])\n"
   ]
  },
  {
   "cell_type": "code",
   "execution_count": 31,
   "metadata": {
    "colab": {
     "base_uri": "https://localhost:8080/"
    },
    "id": "4MflPXwyHaZG",
    "outputId": "942194f3-dee7-479d-a6cd-1d0367b30da9"
   },
   "outputs": [
    {
     "name": "stdout",
     "output_type": "stream",
     "text": [
      "Marginal Failure Machine A | Machine C flag {0: 0.4300929161529073, 1: 0.5699070838470927}\n",
      "Marginal Failure Machine B | Machine C flag {0: 0.5310791077032918, 1: 0.46892089229670825}\n"
     ]
    }
   ],
   "source": [
    "# Calculating conditioned probability Machine C given failure A\n",
    "p_break_A_given_flag_C = ie.query({\"Machine_C_flag\": 1})\n",
    "print(\"Marginal Failure Machine A | Machine C flag\", p_break_A_given_flag_C[\"failure_Machine_A\"])\n",
    "\n",
    "# Calculating conditioned probability Machine C given failure B\n",
    "p_break_B_given_flag_C = ie.query({\"Machine_C_flag\": 1})\n",
    "print(\"Marginal Failure Machine B | Machine C flag\", p_break_B_given_flag_C[\"failure_Machine_B\"])\n"
   ]
  },
  {
   "cell_type": "code",
   "execution_count": 32,
   "metadata": {
    "colab": {
     "base_uri": "https://localhost:8080/"
    },
    "id": "IYtGw6k0H7Tx",
    "outputId": "b202e95d-13b7-496b-fc56-f715950fdd3d"
   },
   "outputs": [
    {
     "name": "stdout",
     "output_type": "stream",
     "text": [
      "Marginal A flag | Machine C flag {0: 0.42419145348877135, 1: 0.5758085465112286}\n",
      "Marginal B flag | Machine C flag {0: 0.5276296654701128, 1: 0.4723703345298872}\n"
     ]
    }
   ],
   "source": [
    "# Calculating conditioned probability Machine C given failure A\n",
    "p_flag_A_given_flag_C = ie.query({\"Machine_C_flag\": 1})\n",
    "print(\"Marginal A flag | Machine C flag\", p_break_A_given_flag_C[\"Machine_A_flag\"])\n",
    "\n",
    "# Calculating conditioned probability Machine C given failure B\n",
    "p_flag_B_given_flag_C = ie.query({\"Machine_C_flag\": 1})\n",
    "print(\"Marginal B flag | Machine C flag\", p_break_B_given_flag_C[\"Machine_B_flag\"])\n"
   ]
  },
  {
   "cell_type": "code",
   "execution_count": 33,
   "metadata": {
    "colab": {
     "base_uri": "https://localhost:8080/"
    },
    "id": "sk02e0YSSCQm",
    "outputId": "e07f3b47-8a3e-474d-b8bc-8d1ff05008a0"
   },
   "outputs": [
    {
     "name": "stdout",
     "output_type": "stream",
     "text": [
      "distribution before do failure A {0: 0.8463463137936038, 1: 0.1536536862063965}\n",
      "distribution after do failure A {0: 0.02826666666666667, 1: 0.9717333333333336}\n",
      "\n",
      "\n",
      "distribution before do failure B {0: 0.8635437456189338, 1: 0.13645625438106643}\n",
      "distribution after do failure B {0: 0.032940595537488085, 1: 0.9670594044625118}\n",
      "\n",
      "\n",
      "distribution before do failure C {0: 0.8108503544079303, 1: 0.1891496455920699}\n",
      "distribution after do failure C {0: 0.21969877169946384, 1: 0.7803012283005362}\n",
      "\n",
      "\n"
     ]
    }
   ],
   "source": [
    "# Do calculus - Failure A vs Flag A\n",
    "print('distribution before do failure A', ie.query()['Machine_A_flag'])\n",
    "ie.do_intervention('failure_Machine_A', {1: 1.0, 0: 0.0})\n",
    "print('distribution after do failure A', ie.query()['Machine_A_flag'])\n",
    "ie.reset_do('failure_Machine_A')\n",
    "print('\\n')\n",
    "\n",
    "# Do calculus - Failure B vs Flag B\n",
    "print('distribution before do failure B', ie.query()['Machine_B_flag'])\n",
    "ie.do_intervention('failure_Machine_B', {1: 1.0, 0: 0.0})\n",
    "print('distribution after do failure B', ie.query()['Machine_B_flag'])\n",
    "ie.reset_do('failure_Machine_B')\n",
    "print('\\n')\n",
    "\n",
    "# Do calculus - Failure C vs Flag C\n",
    "print('distribution before do failure C', ie.query()['Machine_C_flag'])\n",
    "ie.do_intervention('failure_Machine_C', {1: 1.0, 0: 0.0})\n",
    "print('distribution after do failure C', ie.query()['Machine_C_flag'])\n",
    "ie.reset_do('failure_Machine_C')\n",
    "print('\\n')\n"
   ]
  },
  {
   "cell_type": "code",
   "execution_count": 34,
   "metadata": {
    "colab": {
     "base_uri": "https://localhost:8080/"
    },
    "id": "8-sA5yj3VTlg",
    "outputId": "2762f16f-5b3b-4c5f-bebe-f9bab9a23074"
   },
   "outputs": [
    {
     "name": "stdout",
     "output_type": "stream",
     "text": [
      "distribution before do failure A on flag C {0: 0.8108503544079303, 1: 0.18914964559206984}\n",
      "distribution after do failure A on flag C {0: 0.3085287894719985, 1: 0.6914712105280016}\n",
      "\n",
      "\n",
      "distribution before do failure B on flag C {0: 0.8108503544079303, 1: 0.18914964559206984}\n",
      "distribution after do failure B on flag C {0: 0.3629828789797622, 1: 0.6370171210202379}\n",
      "\n",
      "\n"
     ]
    }
   ],
   "source": [
    "# Do calculus - Failure A vs Flag C\n",
    "print('distribution before do failure A on flag C', ie.query()['Machine_C_flag'])\n",
    "ie.do_intervention('failure_Machine_A', {1: 1.0, 0: 0.0})\n",
    "print('distribution after do failure A on flag C', ie.query()['Machine_C_flag'])\n",
    "ie.reset_do('failure_Machine_A')\n",
    "print('\\n')\n",
    "\n",
    "# Do calculus - Failure B vs Flag C\n",
    "print('distribution before do failure B on flag C', ie.query()['Machine_C_flag'])\n",
    "ie.do_intervention('failure_Machine_B', {1: 1.0, 0: 0.0})\n",
    "print('distribution after do failure B on flag C', ie.query()['Machine_C_flag'])\n",
    "ie.reset_do('failure_Machine_B')\n",
    "print('\\n')\n"
   ]
  },
  {
   "cell_type": "code",
   "execution_count": 35,
   "metadata": {
    "colab": {
     "base_uri": "https://localhost:8080/"
    },
    "id": "XNSWQGLBJRGy",
    "outputId": "450853ca-d5c2-491c-cb3a-e3025443a26a"
   },
   "outputs": [
    {
     "name": "stdout",
     "output_type": "stream",
     "text": [
      "distribution before do flag A on flag C {0: 0.8108503544079303, 1: 0.1891496455920699}\n",
      "distribution after do flag A on flag C {0: 0.29117234222949767, 1: 0.7088276577705025}\n",
      "\n",
      "\n",
      "distribution before do flag B on flag C {0: 0.8108503544079303, 1: 0.1891496455920699}\n",
      "distribution after do flag B on flag C {0: 0.3452210617256036, 1: 0.6547789382743965}\n",
      "\n",
      "\n"
     ]
    }
   ],
   "source": [
    "# Do calculus - Flag A vs Flag C\n",
    "print('distribution before do flag A on flag C', ie.query()['Machine_C_flag'])\n",
    "ie.do_intervention('Machine_A_flag', {1: 1.0, 0: 0.0})\n",
    "print('distribution after do flag A on flag C', ie.query()['Machine_C_flag'])\n",
    "ie.reset_do('Machine_A_flag')\n",
    "print('\\n')\n",
    "\n",
    "# Do calculus - Flag B vs Flag C\n",
    "print('distribution before do flag B on flag C', ie.query()['Machine_C_flag'])\n",
    "ie.do_intervention('Machine_B_flag', {1: 1.0, 0: 0.0})\n",
    "print('distribution after do flag B on flag C', ie.query()['Machine_C_flag'])\n",
    "ie.reset_do('Machine_B_flag')\n",
    "print('\\n')"
   ]
  },
  {
   "cell_type": "code",
   "execution_count": null,
   "metadata": {},
   "outputs": [],
   "source": []
  }
 ],
 "metadata": {
  "colab": {
   "authorship_tag": "ABX9TyNHTMbXzjCzzhmy58YfwFsp",
   "collapsed_sections": [],
   "include_colab_link": true,
   "mount_file_id": "1ttKTicFZiOkWLE0ijLhWxAEMsnRce2HN",
   "provenance": []
  },
  "kernelspec": {
   "display_name": "Python 3 (ipykernel)",
   "language": "python",
   "name": "python3"
  },
  "language_info": {
   "codemirror_mode": {
    "name": "ipython",
    "version": 3
   },
   "file_extension": ".py",
   "mimetype": "text/x-python",
   "name": "python",
   "nbconvert_exporter": "python",
   "pygments_lexer": "ipython3",
   "version": "3.8.8"
  }
 },
 "nbformat": 4,
 "nbformat_minor": 1
}
